{
  "cells": [
    {
      "cell_type": "markdown",
      "metadata": {
        "id": "view-in-github",
        "colab_type": "text"
      },
      "source": [
        "<a href=\"https://colab.research.google.com/github/Meijs03/tue-deeplearning/blob/main/practicals/P1.2_Word_embedding.ipynb\" target=\"_parent\"><img src=\"https://colab.research.google.com/assets/colab-badge.svg\" alt=\"Open In Colab\"/></a>"
      ]
    },
    {
      "cell_type": "code",
      "execution_count": 3,
      "metadata": {
        "id": "NTawoRAnjBAQ"
      },
      "outputs": [],
      "source": [
        "%matplotlib inline"
      ]
    },
    {
      "cell_type": "markdown",
      "metadata": {
        "id": "kisW0AVIjBAS"
      },
      "source": [
        "# Practical Overview\n",
        "\n",
        " In this Practical you will learn :\n",
        "- Basic concepts of word embeddings.\n",
        "- How to extract word embeddings by N-Gram in a toy example.\n",
        "- How to extract word embeddings by CBoW in a toy example.\n",
        "- How to extract word embeddings by CBoW in `Alice in Wonderland`.\n",
        "- How to perform the analogy task.\n",
        "- Reflecting on the conceptual differences between the CBoW and N-Gram model.\n",
        "\n",
        "We recommend running the practicals of this course in Google Colab. Make sure to go to additional connection options (the small arrow at the top right) -> change runtime type -> a GPU runtime to make use of GPU acceleration."
      ]
    },
    {
      "cell_type": "markdown",
      "metadata": {
        "id": "xJ4nnAY4jR4R"
      },
      "source": [
        "\n",
        "# Word Embeddings: Encoding Lexical Semantics\n",
        "\n",
        "\n",
        "Word embeddings are dense vectors of real numbers, one per word in your\n",
        "vocabulary. In NLP, it is almost always the case that your features are\n",
        "words! But how should you represent a word in a computer? You could\n",
        "store its ascii character representation, but that only tells you what\n",
        "the word *is*, it doesn't say much about what it *means* (you might be\n",
        "able to derive its part of speech from its affixes, or properties from\n",
        "its capitalization, but not much). Even more, in what sense could you\n",
        "combine these representations? We often want dense outputs from our\n",
        "neural networks, where the inputs are $|V|$ dimensional, where\n",
        "$V$ is our vocabulary, but often the outputs are only a few\n",
        "dimensional (if we are only predicting a handful of labels, for\n",
        "instance). How do we get from a massive dimensional space to a smaller\n",
        "dimensional space?\n",
        "\n",
        "How about instead of ascii representations, we use a one-hot encoding?\n",
        "That is, we represent the word $w$ by\n",
        "$$\n",
        "\\begin{align}\n",
        "\\overbrace{\\left[ 0, 0, \\dots, 1, \\dots, 0, 0 \\right]}^\\text{|V| elements}\n",
        "\\end{align}\n",
        "$$\n",
        "\n",
        "where the 1 is in a location unique to $w$. Any other word will\n",
        "have a 1 in some other location, and a 0 everywhere else.\n",
        "\n",
        "There is an enormous drawback to this representation, besides just how\n",
        "huge it is. It basically treats all words as independent entities with\n",
        "no relation to each other. What we really want is some notion of\n",
        "*similarity* between words. Why? Let's see an example.\n",
        "\n",
        "Suppose we are building a language model. Suppose we have seen the\n",
        "sentences\n",
        "\n",
        "* The mathematician ran to the store.\n",
        "* The physicist ran to the store.\n",
        "* The mathematician solved the open problem.\n",
        "\n",
        "in our training data. Now suppose we get a new sentence never before\n",
        "seen in our training data:\n",
        "\n",
        "* The physicist solved the open problem.\n",
        "\n",
        "Our language model might do OK on this sentence, but wouldn't it be much\n",
        "better if we could use the following two facts:\n",
        "\n",
        "- We have seen  mathematician and physicist in the same role in a sentence. Somehow they\n",
        "  have a semantic relation.\n",
        "* We have seen mathematician in the same role  in this new unseen sentence\n",
        "  as we are now seeing physicist.\n",
        "\n",
        "and then infer that physicist is actually a good fit in the new unseen\n",
        "sentence? This is what we mean by a notion of similarity: we mean\n",
        "*semantic similarity*, not simply having similar orthographic\n",
        "representations. It is a technique to combat the sparsity of linguistic\n",
        "data, by connecting the dots between what we have seen and what we\n",
        "haven't. This example of course relies on a fundamental linguistic\n",
        "assumption: that words appearing in similar contexts are related to each\n",
        "other semantically. This is called the [distributional\n",
        "hypothesis](https://en.wikipedia.org/wiki/Distributional_semantics).\n"
      ]
    },
    {
      "cell_type": "markdown",
      "metadata": {
        "id": "Nu7p9bTtjBAW"
      },
      "source": [
        "# Getting Dense Word Embeddings\n",
        "\n",
        "\n",
        "How can we solve this problem? That is, how could we actually encode\n",
        "semantic similarity in words? Maybe we think up some semantic\n",
        "attributes. For example, we see that both mathematicians and physicists\n",
        "can run, so maybe we give these words a high score for the \"is able to\n",
        "run\" semantic attribute. Think of some other attributes, and imagine\n",
        "what you might score some common words on those attributes.\n",
        "\n",
        "If each attribute is a dimension, then we might give each word a vector,\n",
        "like this:\n",
        "\n",
        "$$\n",
        "\\begin{align}\n",
        "q_\\text{mathematician} = \\left[ \\overbrace{2.3}^\\text{can run},\n",
        "   \\overbrace{9.4}^\\text{likes coffee}, \\overbrace{-5.5}^\\text{majored in Physics}, \\dots \\right]\n",
        " \\end{align}\n",
        "$$\n",
        "\n",
        "$$\n",
        "\\begin{align}\n",
        "q_\\text{physicist} = \\left[ \\overbrace{2.5}^\\text{can run},\n",
        "   \\overbrace{9.1}^\\text{likes coffee}, \\overbrace{6.4}^\\text{majored in Physics}, \\dots \\right]\n",
        "\\end{align}\n",
        "$$\n",
        "\n",
        "Then we can get a measure of similarity between these words by doing:\n",
        "\n",
        "$$\n",
        "\\begin{align}\n",
        "\\text{Similarity}(\\text{physicist}, \\text{mathematician}) = q_\\text{physicist} \\cdot q_\\text{mathematician}\n",
        "\\end{align}\n",
        "$$\n",
        "\n",
        "\n",
        "Although it is more common to normalize by the lengths:\n",
        "\n",
        "\\begin{align}\\text{Similarity}(\\text{physicist}, \\text{mathematician}) = \\frac{q_\\text{physicist} \\cdot q_\\text{mathematician}}\n",
        "   {\\| q_\\text{physicist} \\| \\| q_\\text{mathematician} \\|} = \\cos (\\phi)\\end{align}\n",
        "\n",
        "Where $\\phi$ is the angle between the two vectors. That way,\n",
        "extremely similar words (words whose embeddings point in the same\n",
        "direction) will have similarity 1. Extremely dissimilar words should\n",
        "have similarity -1.\n",
        "\n",
        "\n",
        "\n",
        "You can think of the sparse one-hot vectors from the beginning of this\n",
        "section as a special case of these new vectors we have defined, where\n",
        "each word basically has similarity 0, and we gave each word some unique\n",
        "semantic attribute. These new vectors are *dense*, which is to say their\n",
        "entries are (typically) non-zero.\n",
        "\n",
        "But these new vectors are a big pain: you could think of thousands of\n",
        "different semantic attributes that might be relevant to determining\n",
        "similarity, and how on earth would you set the values of the different\n",
        "attributes? Central to the idea of deep learning is that the neural\n",
        "network learns representations of the features, rather than requiring\n",
        "the programmer to design them herself. So why not just let the word\n",
        "embeddings be parameters in our model, and then be updated during\n",
        "training? This is exactly what we will do. We will have some *latent\n",
        "semantic attributes* that the network can, in principle, learn. Note\n",
        "that the word embeddings will probably not be interpretable. That is,\n",
        "although with our hand-crafted vectors above we can see that\n",
        "mathematicians and physicists are similar in that they both like coffee,\n",
        "if we allow a neural network to learn the embeddings and see that both\n",
        "mathematicians and physicists have a large value in the second\n",
        "dimension, it is not clear what that means. They are similar in some\n",
        "latent semantic dimension, but this probably has no interpretation to\n",
        "us.\n",
        "\n",
        "\n",
        "In summary, **word embeddings are a representation of the *semantics* of\n",
        "a word, efficiently encoding semantic information that might be relevant\n",
        "to the task at hand**. You can embed other things too: part of speech\n",
        "tags, parse trees, anything! The idea of feature embeddings is central\n",
        "to the field.\n"
      ]
    },
    {
      "cell_type": "markdown",
      "metadata": {
        "id": "1LVfvQSwjBAX"
      },
      "source": [
        "# Word Embeddings in Pytorch\n",
        "\n",
        "\n",
        "Before we get to a worked example and an exercise, a few quick notes\n",
        "about how to use embeddings in Pytorch and in deep learning programming\n",
        "in general. Similar to how we defined a unique index for each word when\n",
        "making one-hot vectors, we also need to define an index for each word\n",
        "when using embeddings. These will be keys into a lookup table. That is,\n",
        "embeddings are stored as a $|V| \\times D$ matrix, where $D$\n",
        "is the dimensionality of the embeddings, such that the word assigned\n",
        "index $i$ has its embedding stored in the $i$'th row of the\n",
        "matrix. In all of code, the mapping from words to indices is a\n",
        "dictionary named word\\_to\\_ix.\n",
        "\n",
        "The module that allows you to use embeddings is torch.nn.Embedding,\n",
        "which takes two arguments: the vocabulary size, and the dimensionality\n",
        "of the embeddings.\n",
        "\n",
        "To index into this table, you must use torch.LongTensor (since the\n",
        "indices are integers, not floats).\n",
        "\n"
      ]
    },
    {
      "cell_type": "code",
      "execution_count": 4,
      "metadata": {
        "id": "SN-aYyHOjR4S",
        "outputId": "e0504de2-8cdc-4ee4-c4bc-3d0c05f8f443",
        "colab": {
          "base_uri": "https://localhost:8080/"
        }
      },
      "outputs": [
        {
          "output_type": "execute_result",
          "data": {
            "text/plain": [
              "<torch._C.Generator at 0x78aeadfa9b90>"
            ]
          },
          "metadata": {},
          "execution_count": 4
        }
      ],
      "source": [
        "# The first part of this practical is based on the tutorial by Robert Guthrie, which can be found here:\n",
        "# https://pytorch.org/tutorials/beginner/nlp/word_embeddings_tutorial.html\n",
        "\n",
        "import torch\n",
        "import torch.nn as nn\n",
        "import torch.nn.functional as F\n",
        "import torch.optim as optim\n",
        "import numpy as np\n",
        "torch.manual_seed(1)"
      ]
    },
    {
      "cell_type": "code",
      "execution_count": 5,
      "metadata": {
        "id": "Ki4s4m9IjR4T",
        "outputId": "af9b099d-0829-408a-9a7c-64629765fbd3",
        "colab": {
          "base_uri": "https://localhost:8080/"
        }
      },
      "outputs": [
        {
          "output_type": "stream",
          "name": "stdout",
          "text": [
            "tensor([[ 0.6614,  0.2669,  0.0617,  0.6213, -0.4519]],\n",
            "       grad_fn=<EmbeddingBackward0>)\n"
          ]
        }
      ],
      "source": [
        "word_to_ix = {\"hello\": 0, \"world\": 1}\n",
        "embeds = nn.Embedding(2, 5)  # 2 words in vocab, 5 dimensional embeddings\n",
        "lookup_tensor = torch.tensor([word_to_ix[\"hello\"]], dtype=torch.long)\n",
        "hello_embed = embeds(lookup_tensor)\n",
        "print(hello_embed)"
      ]
    },
    {
      "cell_type": "markdown",
      "metadata": {
        "id": "uzIyUMPKjR4U"
      },
      "source": [
        "# Getting started:  N-Gram Language Modeling in a Toy example\n",
        "\n",
        "\n",
        "Recall that in an n-gram language model, given a sequence of words\n",
        "$w$, we want to compute\n",
        "\n",
        "\\begin{align}P(w_i | w_{i-1}, w_{i-2}, \\dots, w_{i-n+1} )\\end{align}\n",
        "\n",
        "Where $w_i$ is the ith word of the sequence.\n",
        "\n",
        "In this example, we will compute the loss function on some training\n",
        "examples and update the parameters with backpropagation.\n",
        "\n",
        "\n"
      ]
    },
    {
      "cell_type": "markdown",
      "metadata": {
        "id": "uKCWo_ZVjBAa"
      },
      "source": [
        "##  Data Preprocessing\n",
        "\n",
        "Before we can use the data in our model, we should build a list of tuples.  Each tuple is `([ word_i-2, word_i-1 ], target word)`, we also build dictionaries to map from words to indices, i.e. word_to_ix, and map from indices to words, i.e. ix_to_word,"
      ]
    },
    {
      "cell_type": "code",
      "execution_count": 6,
      "metadata": {
        "id": "5gnb5PyRjBAb",
        "outputId": "99eeb5c4-c022-41ca-e342-271b948c1cb9",
        "colab": {
          "base_uri": "https://localhost:8080/"
        }
      },
      "outputs": [
        {
          "output_type": "stream",
          "name": "stdout",
          "text": [
            "[(['When', 'forty'], 'winters'), (['forty', 'winters'], 'shall'), (['winters', 'shall'], 'besiege')]\n"
          ]
        }
      ],
      "source": [
        "CONTEXT_SIZE = 2   # a 2-gram language model\n",
        "\n",
        "# We will use Shakespeare Sonnet 2\n",
        "test_sentence = \"\"\"When forty winters shall besiege thy brow,\n",
        "And dig deep trenches in thy beauty's field,\n",
        "Thy youth's proud livery so gazed on now,\n",
        "Will be a totter'd weed of small worth held:\n",
        "Then being asked, where all thy beauty lies,\n",
        "Where all the treasure of thy lusty days;\n",
        "To say, within thine own deep sunken eyes,\n",
        "Were an all-eating shame, and thriftless praise.\n",
        "How much more praise deserv'd thy beauty's use,\n",
        "If thou couldst answer 'This fair child of mine\n",
        "Shall sum my count, and make my old excuse,'\n",
        "Proving his beauty by succession thine!\n",
        "This were to be new made when thou art old,\n",
        "And see thy blood warm when thou feel'st it cold.\"\"\".split()\n",
        "# we should tokenize the input, but we will ignore that for now\n",
        "# build a list of tuples.  Each tuple is ([ word_i-2, word_i-1 ], target word)\n",
        "trigrams = [([test_sentence[i], test_sentence[i + 1]], test_sentence[i + 2])\n",
        "            for i in range(len(test_sentence) - 2)]\n",
        "# print the first 3, just so you can see what they look like\n",
        "print(trigrams[:3])\n",
        "\n",
        "\n",
        "vocab = set(test_sentence)\n",
        "word_to_ix = {word: i for i, word in enumerate(vocab)}\n",
        "ix_to_word = {ix:word for ix, word in enumerate(vocab)}\n"
      ]
    },
    {
      "cell_type": "markdown",
      "metadata": {
        "id": "_jgjVHf8jBAc"
      },
      "source": [
        "## Create N-Gram model\n",
        "We create N-Gram language model, and set the word embedding size to be 100 (or other by your preference)"
      ]
    },
    {
      "cell_type": "code",
      "execution_count": 7,
      "metadata": {
        "id": "cAWWomBFjR4V",
        "scrolled": true,
        "outputId": "f4c73920-9e97-478a-f629-89696060c080",
        "colab": {
          "base_uri": "https://localhost:8080/"
        }
      },
      "outputs": [
        {
          "output_type": "stream",
          "name": "stdout",
          "text": [
            "Epoch: 0 \tLoss: 4.61758908972276\n",
            "Epoch: 1 \tLoss: 4.565828622969906\n",
            "Epoch: 2 \tLoss: 4.51481618079464\n",
            "Epoch: 3 \tLoss: 4.4645212793772195\n",
            "Epoch: 4 \tLoss: 4.4146908700993635\n",
            "Epoch: 5 \tLoss: 4.365041175774769\n",
            "Epoch: 6 \tLoss: 4.31562267151554\n",
            "Epoch: 7 \tLoss: 4.2664546417979015\n",
            "Epoch: 8 \tLoss: 4.21738423288396\n",
            "Epoch: 9 \tLoss: 4.168470840538498\n",
            "Epoch: 10 \tLoss: 4.1198378010133725\n",
            "Epoch: 11 \tLoss: 4.071164757804533\n",
            "Epoch: 12 \tLoss: 4.022458106015636\n",
            "Epoch: 13 \tLoss: 3.9734958526307502\n",
            "Epoch: 14 \tLoss: 3.924377568000186\n",
            "Epoch: 15 \tLoss: 3.874918927133611\n",
            "Epoch: 16 \tLoss: 3.8251096295044484\n",
            "Epoch: 17 \tLoss: 3.7747349992262578\n",
            "Epoch: 18 \tLoss: 3.7238951003656977\n",
            "Epoch: 19 \tLoss: 3.6725245513747224\n",
            "Epoch: 20 \tLoss: 3.6206769225871667\n",
            "Epoch: 21 \tLoss: 3.5682918751134283\n",
            "Epoch: 22 \tLoss: 3.5154181223000047\n",
            "Epoch: 23 \tLoss: 3.462112409878621\n",
            "Epoch: 24 \tLoss: 3.4081624187199417\n",
            "Epoch: 25 \tLoss: 3.353606764194185\n",
            "Epoch: 26 \tLoss: 3.2983191920592723\n",
            "Epoch: 27 \tLoss: 3.2426702944578323\n",
            "Epoch: 28 \tLoss: 3.1862537459989566\n",
            "Epoch: 29 \tLoss: 3.1292098887198794\n",
            "Epoch: 30 \tLoss: 3.0715990098176804\n",
            "Epoch: 31 \tLoss: 3.013521754636174\n",
            "Epoch: 32 \tLoss: 2.9549770819402372\n",
            "Epoch: 33 \tLoss: 2.8960812482158693\n",
            "Epoch: 34 \tLoss: 2.836798564522667\n",
            "Epoch: 35 \tLoss: 2.777273620124412\n",
            "Epoch: 36 \tLoss: 2.7175589673287046\n",
            "Epoch: 37 \tLoss: 2.6577968381147468\n",
            "Epoch: 38 \tLoss: 2.5979239344596863\n",
            "Epoch: 39 \tLoss: 2.5379706837434686\n",
            "Epoch: 40 \tLoss: 2.4779855076190644\n",
            "Epoch: 41 \tLoss: 2.4182487341154992\n",
            "Epoch: 42 \tLoss: 2.358525958736386\n",
            "Epoch: 43 \tLoss: 2.299187543381632\n",
            "Epoch: 44 \tLoss: 2.2400035059030077\n",
            "Epoch: 45 \tLoss: 2.181281278354932\n",
            "Epoch: 46 \tLoss: 2.12278703171595\n",
            "Epoch: 47 \tLoss: 2.0647001464282515\n",
            "Epoch: 48 \tLoss: 2.0070544381057265\n",
            "Epoch: 49 \tLoss: 1.949928279207871\n",
            "Epoch: 50 \tLoss: 1.893290144943558\n",
            "Epoch: 51 \tLoss: 1.837168383255469\n",
            "Epoch: 52 \tLoss: 1.7816011884571177\n",
            "Epoch: 53 \tLoss: 1.7264931346990366\n",
            "Epoch: 54 \tLoss: 1.6721839966763437\n",
            "Epoch: 55 \tLoss: 1.618495872722263\n",
            "Epoch: 56 \tLoss: 1.5656691233141233\n",
            "Epoch: 57 \tLoss: 1.5136495435659865\n",
            "Epoch: 58 \tLoss: 1.4622825277326381\n",
            "Epoch: 59 \tLoss: 1.4120883826924637\n",
            "Epoch: 60 \tLoss: 1.3626287779976836\n",
            "Epoch: 61 \tLoss: 1.3141870308766324\n",
            "Epoch: 62 \tLoss: 1.2668681994608018\n",
            "Epoch: 63 \tLoss: 1.2206011217384212\n",
            "Epoch: 64 \tLoss: 1.1755110826508133\n",
            "Epoch: 65 \tLoss: 1.1315898703394738\n",
            "Epoch: 66 \tLoss: 1.0888622352375394\n",
            "Epoch: 67 \tLoss: 1.0474180751274118\n",
            "Epoch: 68 \tLoss: 1.007194848253136\n",
            "Epoch: 69 \tLoss: 0.9682535508037668\n",
            "Epoch: 70 \tLoss: 0.9306543037559079\n",
            "Epoch: 71 \tLoss: 0.8942851693888682\n",
            "Epoch: 72 \tLoss: 0.8592542934074866\n",
            "Epoch: 73 \tLoss: 0.8255161307422461\n",
            "Epoch: 74 \tLoss: 0.79314506060518\n",
            "Epoch: 75 \tLoss: 0.7619588711356695\n",
            "Epoch: 76 \tLoss: 0.7321221289777122\n",
            "Epoch: 77 \tLoss: 0.7035199182882773\n",
            "Epoch: 78 \tLoss: 0.6761013017555254\n",
            "Epoch: 79 \tLoss: 0.6499468244414414\n",
            "Epoch: 80 \tLoss: 0.6249086502774627\n",
            "Epoch: 81 \tLoss: 0.6010062701142995\n",
            "Epoch: 82 \tLoss: 0.5782490707604231\n",
            "Epoch: 83 \tLoss: 0.556543835397579\n",
            "Epoch: 84 \tLoss: 0.5358619518182447\n",
            "Epoch: 85 \tLoss: 0.5161724048048522\n",
            "Epoch: 86 \tLoss: 0.4974314593833632\n",
            "Epoch: 87 \tLoss: 0.4796012741867947\n",
            "Epoch: 88 \tLoss: 0.4626719073713881\n",
            "Epoch: 89 \tLoss: 0.44654867445341256\n",
            "Epoch: 90 \tLoss: 0.43126110323762473\n",
            "Epoch: 91 \tLoss: 0.4167164053141543\n",
            "Epoch: 92 \tLoss: 0.40288694403999675\n",
            "Epoch: 93 \tLoss: 0.38972446127934796\n",
            "Epoch: 94 \tLoss: 0.377244330217353\n",
            "Epoch: 95 \tLoss: 0.3653766431112205\n",
            "Epoch: 96 \tLoss: 0.3540774071836366\n",
            "Epoch: 97 \tLoss: 0.3433416395126718\n",
            "Epoch: 98 \tLoss: 0.33312173484437235\n",
            "Epoch: 99 \tLoss: 0.32341371648079525\n"
          ]
        }
      ],
      "source": [
        "EMBEDDING_DIM = 100\n",
        "\n",
        "class NGramLanguageModeler(nn.Module):\n",
        "\n",
        "    def __init__(self, vocab_size, embedding_dim, context_size):\n",
        "        super().__init__()\n",
        "        self.embeddings = nn.Embedding(vocab_size, embedding_dim)\n",
        "        self.linear1 = nn.Linear(context_size * embedding_dim, 128)\n",
        "        self.linear2 = nn.Linear(128, vocab_size)\n",
        "\n",
        "    def forward(self, inputs):\n",
        "        embeds = self.embeddings(inputs).view((1, -1))\n",
        "        out = F.relu(self.linear1(embeds))\n",
        "        out = self.linear2(out)\n",
        "        log_probs = F.log_softmax(out, dim=1)\n",
        "        return log_probs\n",
        "\n",
        "\n",
        "\n",
        "loss_function = nn.NLLLoss()\n",
        "model = NGramLanguageModeler(len(vocab), EMBEDDING_DIM, CONTEXT_SIZE)\n",
        "optimizer = optim.SGD(model.parameters(), lr=0.001)\n",
        "\n",
        "for epoch in range(100):\n",
        "    total_loss = 0\n",
        "    for context, target in trigrams:\n",
        "\n",
        "        # Step 1. Prepare the inputs to be passed to the model (i.e, turn the words\n",
        "        # into integer indices and wrap them in tensors)\n",
        "        context_idxs = torch.tensor([word_to_ix[w] for w in context], dtype=torch.long)\n",
        "\n",
        "        # Step 2. Recall that torch *accumulates* gradients. Before passing in a\n",
        "        # new instance, you need to zero out the gradients from the old\n",
        "        # instance\n",
        "        model.zero_grad()\n",
        "\n",
        "        # Step 3. Run the forward pass, getting log probabilities over next\n",
        "        # words\n",
        "        log_probs = model(context_idxs)\n",
        "\n",
        "        # Step 4. Compute your loss function. (Again, Torch wants the target\n",
        "        # word wrapped in a tensor)\n",
        "        loss = loss_function(log_probs, torch.tensor([word_to_ix[target]], dtype=torch.long))\n",
        "\n",
        "        # Step 5. Do the backward pass and update the gradient\n",
        "        loss.backward()\n",
        "        optimizer.step()\n",
        "\n",
        "        # Get the Python number from a 1-element Tensor by calling tensor.item()\n",
        "        total_loss += loss.item()\n",
        "    average_loss= total_loss/len(trigrams)\n",
        "    print('Epoch:', epoch, '\\tLoss:', average_loss)  # The loss decreased every iteration over the training data!"
      ]
    },
    {
      "cell_type": "markdown",
      "metadata": {
        "id": "yHw_OvWYjBAd"
      },
      "source": [
        "##  Check the results"
      ]
    },
    {
      "cell_type": "markdown",
      "metadata": {
        "id": "I0sjo6BXjBAd"
      },
      "source": [
        "We can inspect some of the word embedding values in a pandas DataFrame:"
      ]
    },
    {
      "cell_type": "code",
      "execution_count": 8,
      "metadata": {
        "scrolled": true,
        "id": "tjVPwuOMjBAd",
        "outputId": "4354bdc4-22f9-4e4b-c2d4-172a7e05ccb7",
        "colab": {
          "base_uri": "https://localhost:8080/",
          "height": 255
        }
      },
      "outputs": [
        {
          "output_type": "execute_result",
          "data": {
            "text/plain": [
              "             0         1         2         3         4         5         6   \\\n",
              "eyes,  0.865621  0.245150 -0.661660  0.808290  0.440492  1.171702  1.767668   \n",
              "worth  0.155884  1.258494  1.330024 -0.492796 -1.983242  1.798235  0.105118   \n",
              "child  0.214949 -0.576232  1.456035  1.772998 -2.019564  0.421951  0.570509   \n",
              "to     0.142095  0.204306  1.052788  0.130162  1.400645  0.486788 -0.704951   \n",
              "dig   -0.377279 -2.415444 -1.276120 -0.059816 -1.230910 -1.066110 -0.387059   \n",
              "\n",
              "             7         8         9   ...        90        91        92  \\\n",
              "eyes, -0.094874  0.060937 -0.619043  ... -1.484453 -1.135931 -0.096966   \n",
              "worth  0.337390 -0.645146 -0.288702  ... -1.104672 -0.699555  0.232377   \n",
              "child -1.797613  1.250869  1.276230  ...  0.249096 -0.387046 -0.194873   \n",
              "to    -0.825005  0.098688  0.196848  ...  0.344108 -0.548884 -0.960675   \n",
              "dig    0.381755 -0.210082  0.693976  ...  0.292249 -0.563650  0.726209   \n",
              "\n",
              "             93        94        95        96        97        98        99  \n",
              "eyes,  0.343222 -1.074430 -0.874921  0.205908  0.303477  0.534696 -0.431348  \n",
              "worth  1.917276  1.840064  1.327083 -0.071806  0.343907 -0.655737  1.560548  \n",
              "child -0.841230 -1.553772 -0.058542  1.200156 -2.289960 -1.011395 -0.890744  \n",
              "to     0.276379 -0.680715 -0.544664  1.157148 -0.397535  0.972892  1.550364  \n",
              "dig   -0.544978 -0.806325  0.019317 -0.150144  0.522345 -0.213972 -1.251794  \n",
              "\n",
              "[5 rows x 100 columns]"
            ],
            "text/html": [
              "\n",
              "  <div id=\"df-a59689e3-9f32-4bdc-936d-7f7305427717\" class=\"colab-df-container\">\n",
              "    <div>\n",
              "<style scoped>\n",
              "    .dataframe tbody tr th:only-of-type {\n",
              "        vertical-align: middle;\n",
              "    }\n",
              "\n",
              "    .dataframe tbody tr th {\n",
              "        vertical-align: top;\n",
              "    }\n",
              "\n",
              "    .dataframe thead th {\n",
              "        text-align: right;\n",
              "    }\n",
              "</style>\n",
              "<table border=\"1\" class=\"dataframe\">\n",
              "  <thead>\n",
              "    <tr style=\"text-align: right;\">\n",
              "      <th></th>\n",
              "      <th>0</th>\n",
              "      <th>1</th>\n",
              "      <th>2</th>\n",
              "      <th>3</th>\n",
              "      <th>4</th>\n",
              "      <th>5</th>\n",
              "      <th>6</th>\n",
              "      <th>7</th>\n",
              "      <th>8</th>\n",
              "      <th>9</th>\n",
              "      <th>...</th>\n",
              "      <th>90</th>\n",
              "      <th>91</th>\n",
              "      <th>92</th>\n",
              "      <th>93</th>\n",
              "      <th>94</th>\n",
              "      <th>95</th>\n",
              "      <th>96</th>\n",
              "      <th>97</th>\n",
              "      <th>98</th>\n",
              "      <th>99</th>\n",
              "    </tr>\n",
              "  </thead>\n",
              "  <tbody>\n",
              "    <tr>\n",
              "      <th>eyes,</th>\n",
              "      <td>0.865621</td>\n",
              "      <td>0.245150</td>\n",
              "      <td>-0.661660</td>\n",
              "      <td>0.808290</td>\n",
              "      <td>0.440492</td>\n",
              "      <td>1.171702</td>\n",
              "      <td>1.767668</td>\n",
              "      <td>-0.094874</td>\n",
              "      <td>0.060937</td>\n",
              "      <td>-0.619043</td>\n",
              "      <td>...</td>\n",
              "      <td>-1.484453</td>\n",
              "      <td>-1.135931</td>\n",
              "      <td>-0.096966</td>\n",
              "      <td>0.343222</td>\n",
              "      <td>-1.074430</td>\n",
              "      <td>-0.874921</td>\n",
              "      <td>0.205908</td>\n",
              "      <td>0.303477</td>\n",
              "      <td>0.534696</td>\n",
              "      <td>-0.431348</td>\n",
              "    </tr>\n",
              "    <tr>\n",
              "      <th>worth</th>\n",
              "      <td>0.155884</td>\n",
              "      <td>1.258494</td>\n",
              "      <td>1.330024</td>\n",
              "      <td>-0.492796</td>\n",
              "      <td>-1.983242</td>\n",
              "      <td>1.798235</td>\n",
              "      <td>0.105118</td>\n",
              "      <td>0.337390</td>\n",
              "      <td>-0.645146</td>\n",
              "      <td>-0.288702</td>\n",
              "      <td>...</td>\n",
              "      <td>-1.104672</td>\n",
              "      <td>-0.699555</td>\n",
              "      <td>0.232377</td>\n",
              "      <td>1.917276</td>\n",
              "      <td>1.840064</td>\n",
              "      <td>1.327083</td>\n",
              "      <td>-0.071806</td>\n",
              "      <td>0.343907</td>\n",
              "      <td>-0.655737</td>\n",
              "      <td>1.560548</td>\n",
              "    </tr>\n",
              "    <tr>\n",
              "      <th>child</th>\n",
              "      <td>0.214949</td>\n",
              "      <td>-0.576232</td>\n",
              "      <td>1.456035</td>\n",
              "      <td>1.772998</td>\n",
              "      <td>-2.019564</td>\n",
              "      <td>0.421951</td>\n",
              "      <td>0.570509</td>\n",
              "      <td>-1.797613</td>\n",
              "      <td>1.250869</td>\n",
              "      <td>1.276230</td>\n",
              "      <td>...</td>\n",
              "      <td>0.249096</td>\n",
              "      <td>-0.387046</td>\n",
              "      <td>-0.194873</td>\n",
              "      <td>-0.841230</td>\n",
              "      <td>-1.553772</td>\n",
              "      <td>-0.058542</td>\n",
              "      <td>1.200156</td>\n",
              "      <td>-2.289960</td>\n",
              "      <td>-1.011395</td>\n",
              "      <td>-0.890744</td>\n",
              "    </tr>\n",
              "    <tr>\n",
              "      <th>to</th>\n",
              "      <td>0.142095</td>\n",
              "      <td>0.204306</td>\n",
              "      <td>1.052788</td>\n",
              "      <td>0.130162</td>\n",
              "      <td>1.400645</td>\n",
              "      <td>0.486788</td>\n",
              "      <td>-0.704951</td>\n",
              "      <td>-0.825005</td>\n",
              "      <td>0.098688</td>\n",
              "      <td>0.196848</td>\n",
              "      <td>...</td>\n",
              "      <td>0.344108</td>\n",
              "      <td>-0.548884</td>\n",
              "      <td>-0.960675</td>\n",
              "      <td>0.276379</td>\n",
              "      <td>-0.680715</td>\n",
              "      <td>-0.544664</td>\n",
              "      <td>1.157148</td>\n",
              "      <td>-0.397535</td>\n",
              "      <td>0.972892</td>\n",
              "      <td>1.550364</td>\n",
              "    </tr>\n",
              "    <tr>\n",
              "      <th>dig</th>\n",
              "      <td>-0.377279</td>\n",
              "      <td>-2.415444</td>\n",
              "      <td>-1.276120</td>\n",
              "      <td>-0.059816</td>\n",
              "      <td>-1.230910</td>\n",
              "      <td>-1.066110</td>\n",
              "      <td>-0.387059</td>\n",
              "      <td>0.381755</td>\n",
              "      <td>-0.210082</td>\n",
              "      <td>0.693976</td>\n",
              "      <td>...</td>\n",
              "      <td>0.292249</td>\n",
              "      <td>-0.563650</td>\n",
              "      <td>0.726209</td>\n",
              "      <td>-0.544978</td>\n",
              "      <td>-0.806325</td>\n",
              "      <td>0.019317</td>\n",
              "      <td>-0.150144</td>\n",
              "      <td>0.522345</td>\n",
              "      <td>-0.213972</td>\n",
              "      <td>-1.251794</td>\n",
              "    </tr>\n",
              "  </tbody>\n",
              "</table>\n",
              "<p>5 rows × 100 columns</p>\n",
              "</div>\n",
              "    <div class=\"colab-df-buttons\">\n",
              "\n",
              "  <div class=\"colab-df-container\">\n",
              "    <button class=\"colab-df-convert\" onclick=\"convertToInteractive('df-a59689e3-9f32-4bdc-936d-7f7305427717')\"\n",
              "            title=\"Convert this dataframe to an interactive table.\"\n",
              "            style=\"display:none;\">\n",
              "\n",
              "  <svg xmlns=\"http://www.w3.org/2000/svg\" height=\"24px\" viewBox=\"0 -960 960 960\">\n",
              "    <path d=\"M120-120v-720h720v720H120Zm60-500h600v-160H180v160Zm220 220h160v-160H400v160Zm0 220h160v-160H400v160ZM180-400h160v-160H180v160Zm440 0h160v-160H620v160ZM180-180h160v-160H180v160Zm440 0h160v-160H620v160Z\"/>\n",
              "  </svg>\n",
              "    </button>\n",
              "\n",
              "  <style>\n",
              "    .colab-df-container {\n",
              "      display:flex;\n",
              "      gap: 12px;\n",
              "    }\n",
              "\n",
              "    .colab-df-convert {\n",
              "      background-color: #E8F0FE;\n",
              "      border: none;\n",
              "      border-radius: 50%;\n",
              "      cursor: pointer;\n",
              "      display: none;\n",
              "      fill: #1967D2;\n",
              "      height: 32px;\n",
              "      padding: 0 0 0 0;\n",
              "      width: 32px;\n",
              "    }\n",
              "\n",
              "    .colab-df-convert:hover {\n",
              "      background-color: #E2EBFA;\n",
              "      box-shadow: 0px 1px 2px rgba(60, 64, 67, 0.3), 0px 1px 3px 1px rgba(60, 64, 67, 0.15);\n",
              "      fill: #174EA6;\n",
              "    }\n",
              "\n",
              "    .colab-df-buttons div {\n",
              "      margin-bottom: 4px;\n",
              "    }\n",
              "\n",
              "    [theme=dark] .colab-df-convert {\n",
              "      background-color: #3B4455;\n",
              "      fill: #D2E3FC;\n",
              "    }\n",
              "\n",
              "    [theme=dark] .colab-df-convert:hover {\n",
              "      background-color: #434B5C;\n",
              "      box-shadow: 0px 1px 3px 1px rgba(0, 0, 0, 0.15);\n",
              "      filter: drop-shadow(0px 1px 2px rgba(0, 0, 0, 0.3));\n",
              "      fill: #FFFFFF;\n",
              "    }\n",
              "  </style>\n",
              "\n",
              "    <script>\n",
              "      const buttonEl =\n",
              "        document.querySelector('#df-a59689e3-9f32-4bdc-936d-7f7305427717 button.colab-df-convert');\n",
              "      buttonEl.style.display =\n",
              "        google.colab.kernel.accessAllowed ? 'block' : 'none';\n",
              "\n",
              "      async function convertToInteractive(key) {\n",
              "        const element = document.querySelector('#df-a59689e3-9f32-4bdc-936d-7f7305427717');\n",
              "        const dataTable =\n",
              "          await google.colab.kernel.invokeFunction('convertToInteractive',\n",
              "                                                    [key], {});\n",
              "        if (!dataTable) return;\n",
              "\n",
              "        const docLinkHtml = 'Like what you see? Visit the ' +\n",
              "          '<a target=\"_blank\" href=https://colab.research.google.com/notebooks/data_table.ipynb>data table notebook</a>'\n",
              "          + ' to learn more about interactive tables.';\n",
              "        element.innerHTML = '';\n",
              "        dataTable['output_type'] = 'display_data';\n",
              "        await google.colab.output.renderOutput(dataTable, element);\n",
              "        const docLink = document.createElement('div');\n",
              "        docLink.innerHTML = docLinkHtml;\n",
              "        element.appendChild(docLink);\n",
              "      }\n",
              "    </script>\n",
              "  </div>\n",
              "\n",
              "\n",
              "<div id=\"df-abba41ad-2a8e-47ed-87c9-c0d5f57120b0\">\n",
              "  <button class=\"colab-df-quickchart\" onclick=\"quickchart('df-abba41ad-2a8e-47ed-87c9-c0d5f57120b0')\"\n",
              "            title=\"Suggest charts\"\n",
              "            style=\"display:none;\">\n",
              "\n",
              "<svg xmlns=\"http://www.w3.org/2000/svg\" height=\"24px\"viewBox=\"0 0 24 24\"\n",
              "     width=\"24px\">\n",
              "    <g>\n",
              "        <path d=\"M19 3H5c-1.1 0-2 .9-2 2v14c0 1.1.9 2 2 2h14c1.1 0 2-.9 2-2V5c0-1.1-.9-2-2-2zM9 17H7v-7h2v7zm4 0h-2V7h2v10zm4 0h-2v-4h2v4z\"/>\n",
              "    </g>\n",
              "</svg>\n",
              "  </button>\n",
              "\n",
              "<style>\n",
              "  .colab-df-quickchart {\n",
              "      --bg-color: #E8F0FE;\n",
              "      --fill-color: #1967D2;\n",
              "      --hover-bg-color: #E2EBFA;\n",
              "      --hover-fill-color: #174EA6;\n",
              "      --disabled-fill-color: #AAA;\n",
              "      --disabled-bg-color: #DDD;\n",
              "  }\n",
              "\n",
              "  [theme=dark] .colab-df-quickchart {\n",
              "      --bg-color: #3B4455;\n",
              "      --fill-color: #D2E3FC;\n",
              "      --hover-bg-color: #434B5C;\n",
              "      --hover-fill-color: #FFFFFF;\n",
              "      --disabled-bg-color: #3B4455;\n",
              "      --disabled-fill-color: #666;\n",
              "  }\n",
              "\n",
              "  .colab-df-quickchart {\n",
              "    background-color: var(--bg-color);\n",
              "    border: none;\n",
              "    border-radius: 50%;\n",
              "    cursor: pointer;\n",
              "    display: none;\n",
              "    fill: var(--fill-color);\n",
              "    height: 32px;\n",
              "    padding: 0;\n",
              "    width: 32px;\n",
              "  }\n",
              "\n",
              "  .colab-df-quickchart:hover {\n",
              "    background-color: var(--hover-bg-color);\n",
              "    box-shadow: 0 1px 2px rgba(60, 64, 67, 0.3), 0 1px 3px 1px rgba(60, 64, 67, 0.15);\n",
              "    fill: var(--button-hover-fill-color);\n",
              "  }\n",
              "\n",
              "  .colab-df-quickchart-complete:disabled,\n",
              "  .colab-df-quickchart-complete:disabled:hover {\n",
              "    background-color: var(--disabled-bg-color);\n",
              "    fill: var(--disabled-fill-color);\n",
              "    box-shadow: none;\n",
              "  }\n",
              "\n",
              "  .colab-df-spinner {\n",
              "    border: 2px solid var(--fill-color);\n",
              "    border-color: transparent;\n",
              "    border-bottom-color: var(--fill-color);\n",
              "    animation:\n",
              "      spin 1s steps(1) infinite;\n",
              "  }\n",
              "\n",
              "  @keyframes spin {\n",
              "    0% {\n",
              "      border-color: transparent;\n",
              "      border-bottom-color: var(--fill-color);\n",
              "      border-left-color: var(--fill-color);\n",
              "    }\n",
              "    20% {\n",
              "      border-color: transparent;\n",
              "      border-left-color: var(--fill-color);\n",
              "      border-top-color: var(--fill-color);\n",
              "    }\n",
              "    30% {\n",
              "      border-color: transparent;\n",
              "      border-left-color: var(--fill-color);\n",
              "      border-top-color: var(--fill-color);\n",
              "      border-right-color: var(--fill-color);\n",
              "    }\n",
              "    40% {\n",
              "      border-color: transparent;\n",
              "      border-right-color: var(--fill-color);\n",
              "      border-top-color: var(--fill-color);\n",
              "    }\n",
              "    60% {\n",
              "      border-color: transparent;\n",
              "      border-right-color: var(--fill-color);\n",
              "    }\n",
              "    80% {\n",
              "      border-color: transparent;\n",
              "      border-right-color: var(--fill-color);\n",
              "      border-bottom-color: var(--fill-color);\n",
              "    }\n",
              "    90% {\n",
              "      border-color: transparent;\n",
              "      border-bottom-color: var(--fill-color);\n",
              "    }\n",
              "  }\n",
              "</style>\n",
              "\n",
              "  <script>\n",
              "    async function quickchart(key) {\n",
              "      const quickchartButtonEl =\n",
              "        document.querySelector('#' + key + ' button');\n",
              "      quickchartButtonEl.disabled = true;  // To prevent multiple clicks.\n",
              "      quickchartButtonEl.classList.add('colab-df-spinner');\n",
              "      try {\n",
              "        const charts = await google.colab.kernel.invokeFunction(\n",
              "            'suggestCharts', [key], {});\n",
              "      } catch (error) {\n",
              "        console.error('Error during call to suggestCharts:', error);\n",
              "      }\n",
              "      quickchartButtonEl.classList.remove('colab-df-spinner');\n",
              "      quickchartButtonEl.classList.add('colab-df-quickchart-complete');\n",
              "    }\n",
              "    (() => {\n",
              "      let quickchartButtonEl =\n",
              "        document.querySelector('#df-abba41ad-2a8e-47ed-87c9-c0d5f57120b0 button');\n",
              "      quickchartButtonEl.style.display =\n",
              "        google.colab.kernel.accessAllowed ? 'block' : 'none';\n",
              "    })();\n",
              "  </script>\n",
              "</div>\n",
              "\n",
              "    </div>\n",
              "  </div>\n"
            ],
            "application/vnd.google.colaboratory.intrinsic+json": {
              "type": "dataframe"
            }
          },
          "metadata": {},
          "execution_count": 8
        }
      ],
      "source": [
        "import pandas as pd\n",
        "embeddings = model.embeddings(torch.Tensor([list(range(0,len(vocab)))]).long())\n",
        "embeddings = embeddings.view(-1,100)\n",
        "pd.DataFrame(embeddings.tolist(), index=list(ix_to_word.values())[0:]).head()"
      ]
    },
    {
      "cell_type": "markdown",
      "metadata": {
        "id": "2hQYAHx8jBAe"
      },
      "source": [
        "We can also plot the embeddings with TSNE to visualize the similarity"
      ]
    },
    {
      "cell_type": "code",
      "execution_count": 9,
      "metadata": {
        "id": "QomSc4I9jBAe"
      },
      "outputs": [],
      "source": [
        "labels=[]\n",
        "for i in range(len(ix_to_word)):\n",
        "    labels.append(ix_to_word[i])"
      ]
    },
    {
      "cell_type": "code",
      "execution_count": 10,
      "metadata": {
        "scrolled": true,
        "id": "zoaIRdWPjBAe",
        "outputId": "4af9e392-530c-4ffd-b3cf-bd023b546bff",
        "colab": {
          "base_uri": "https://localhost:8080/",
          "height": 830
        }
      },
      "outputs": [
        {
          "output_type": "display_data",
          "data": {
            "text/plain": [
              "<Figure size 1000x1000 with 1 Axes>"
            ],
            "image/png": "[encoded data removed]"
          },
          "metadata": {}
        }
      ],
      "source": [
        "from matplotlib import pylab\n",
        "from sklearn.manifold import TSNE\n",
        "\n",
        "tsne = TSNE(n_components=2)\n",
        "two_d_embeddings = tsne.fit_transform(embeddings.detach().numpy())\n",
        "\n",
        "def plot(embeddings, labels):\n",
        "      assert embeddings.shape[0] >= len(labels), 'More labels than embeddings'\n",
        "      pylab.figure(figsize=(10,10))  # in inches\n",
        "      for i, label in enumerate(labels):\n",
        "        x, y = embeddings[i,:]\n",
        "        pylab.scatter(x, y)\n",
        "        pylab.annotate(label, xy=(x, y), xytext=(5, 2), textcoords='offset points',\n",
        "                       ha='right', va='bottom')\n",
        "      pylab.show()\n",
        "\n",
        "\n",
        "plot(two_d_embeddings, labels)"
      ]
    },
    {
      "cell_type": "code",
      "execution_count": 11,
      "metadata": {
        "id": "mTpN7wy_jBAf",
        "outputId": "ed6e20af-b4ba-47ba-9967-3e7889e0cf48",
        "colab": {
          "base_uri": "https://localhost:8080/"
        }
      },
      "outputs": [
        {
          "output_type": "stream",
          "name": "stdout",
          "text": [
            "Raw text: When forty winters shall besiege thy brow, And dig deep trenches in thy beauty's field, Thy youth's proud livery so gazed on now, Will be a totter'd weed of small worth held: Then being asked, where all thy beauty lies, Where all the treasure of thy lusty days; To say, within thine own deep sunken eyes, Were an all-eating shame, and thriftless praise. How much more praise deserv'd thy beauty's use, If thou couldst answer 'This fair child of mine Shall sum my count, and make my old excuse,' Proving his beauty by succession thine! This were to be new made when thou art old, And see thy blood warm when thou feel'st it cold.\n",
            "\n",
            "Context: ['When', 'forty']\n",
            "\n",
            "Prediction: winters\n"
          ]
        }
      ],
      "source": [
        "context = ['When','forty']\n",
        "\n",
        "a = model(torch.tensor([word_to_ix[w] for w in context]))\n",
        "\n",
        "#Print result\n",
        "print(f'Raw text: {\" \".join(test_sentence)}\\n')\n",
        "print(f'Context: {context}\\n')\n",
        "print(f'Prediction: {ix_to_word[torch.argmax(a[0]).item()]}')"
      ]
    },
    {
      "cell_type": "markdown",
      "metadata": {
        "id": "TuCM5LSqjR4V"
      },
      "source": [
        "# Practical part  1: Computing Word Embeddings -- Continuous Bag-of-Words in a Toy example\n",
        "\n",
        "\n",
        "The Continuous Bag-of-Words model (CBOW) is frequently used in NLP deep\n",
        "learning. It is a model that tries to predict words given the context of\n",
        "a few words before and a few words after the target word. This is\n",
        "distinct from typical practices in language modeling, since CBOW is not sequential and does\n",
        "not have to be probabilistic. Typcially, CBOW is used to quickly train\n",
        "word embeddings, and these embeddings are used to initialize the\n",
        "embeddings of some more complicated model. Usually, this is referred to\n",
        "as *pretraining embeddings*. It almost always helps performance a couple\n",
        "of percent.\n",
        "\n",
        "The CBOW model is as follows. Given a target word $w_i$ and an\n",
        "$N$ context window on each side, $w_{i-1}, \\dots, w_{i-N}$\n",
        "and $w_{i+1}, \\dots, w_{i+N}$, referring to all context words\n",
        "collectively as $C$, CBOW tries to minimize\n",
        "\n",
        "\\begin{align}-\\log p(w_i | C) = -\\log \\text{Softmax}(A(\\sum_{w \\in C} q_w) + b)\\end{align}\n",
        "\n",
        "where $q_w$ is the embedding for word $w$.\n",
        "\n",
        "Implement this model in Pytorch by filling in the class below. Some\n",
        "tips:\n",
        "\n",
        "* Think about which parameters you need to define.\n",
        "* Make sure you know what shape each operation expects. Use .view() if you need to\n",
        "  reshape.\n",
        "\n"
      ]
    },
    {
      "cell_type": "markdown",
      "metadata": {
        "id": "ta92M-wejBAf"
      },
      "source": [
        "##  Data Preprocessing\n",
        "\n",
        "The CBOW model architecture tries to predict the current target word (the center word) based on the source context words (surrounding words). Considering a simple sentence, `the quick brown fox jumps over the lazy dog`, this can be pairs of (context_window, target_word) where if we consider a context size 2 (2 words to the left, 2 to the right),  we have examples like `([the, quick, fox, jumps], brown)` and so on. Thus the model tries to predict the target_word based on the context_window words.\n",
        "\n",
        "\n",
        "Therefore should build a list of tuples.  Each tuple is `([ word_i-2, word_i-1,word_i+1, word_i+2 ], target word)`, we also build dictionaries to map from words to indices, i.e. word_to_ix, and map from indices to words, i.e. ix_to_word,"
      ]
    },
    {
      "cell_type": "code",
      "execution_count": 12,
      "metadata": {
        "id": "onJJDUtpjBAf",
        "outputId": "d3c14a5f-c13b-49cc-eeda-4122436747bf",
        "colab": {
          "base_uri": "https://localhost:8080/"
        }
      },
      "outputs": [
        {
          "output_type": "stream",
          "name": "stdout",
          "text": [
            "[(['We', 'are', 'to', 'study'], 'about'), (['are', 'about', 'study', 'the'], 'to'), (['about', 'to', 'the', 'idea'], 'study'), (['to', 'study', 'idea', 'of'], 'the'), (['study', 'the', 'of', 'a'], 'idea')]\n"
          ]
        }
      ],
      "source": [
        "import torch\n",
        "import torch.nn as nn\n",
        "\n",
        "\n",
        "CONTEXT_SIZE = 2  # 2 words to the left, 2 to the right\n",
        "EMBEDDING_DIM = 100\n",
        "\n",
        "raw_text = \"\"\"We are about to study the idea of a computational process.\n",
        "Computational processes are abstract beings that inhabit computers.\n",
        "As they evolve, processes manipulate other abstract things called data.\n",
        "The evolution of a process is directed by a pattern of rules\n",
        "called a program. People create programs to direct processes. In effect,\n",
        "we conjure the spirits of the computer with our spells.\"\"\".split()\n",
        "\n",
        "\n",
        "# By deriving a set from `raw_text`, we deduplicate the array\n",
        "vocab = set(raw_text)\n",
        "vocab_size = len(vocab)\n",
        "\n",
        "word_to_ix = {word:ix for ix, word in enumerate(vocab)}\n",
        "ix_to_word = {ix:word for ix, word in enumerate(vocab)}\n",
        "\n",
        "data = []\n",
        "for i in range(2, len(raw_text) - 2):\n",
        "    context = [raw_text[i - 2], raw_text[i - 1],\n",
        "               raw_text[i + 1], raw_text[i + 2]]\n",
        "    target = raw_text[i]\n",
        "    data.append((context, target))\n",
        "\n",
        "print(data[:5])"
      ]
    },
    {
      "cell_type": "markdown",
      "metadata": {
        "id": "TLAgIDIWjBAg"
      },
      "source": [
        "\n",
        "## Create CBoW Model\n",
        "Following is an image to illustrate the model architecture. We set the word embedding size to be 100 (or other by your preference)."
      ]
    },
    {
      "cell_type": "markdown",
      "metadata": {
        "id": "_OY96y7RjBAg"
      },
      "source": [
        "![avatar](https://miro.medium.com/max/328/1*bkrBASpteKfCaxZDEEeN6g.png)"
      ]
    },
    {
      "cell_type": "code",
      "execution_count": 13,
      "metadata": {
        "id": "c83HvD2hjR4W",
        "scrolled": true,
        "outputId": "59826247-c586-42ff-f6e1-043686f727ab",
        "colab": {
          "base_uri": "https://localhost:8080/"
        }
      },
      "outputs": [
        {
          "output_type": "stream",
          "name": "stdout",
          "text": [
            "Epoch 0: Loss 227.9130\n",
            "Epoch 10: Loss 183.7587\n",
            "Epoch 20: Loss 141.6248\n",
            "Epoch 30: Loss 99.4692\n",
            "Epoch 40: Loss 64.0634\n",
            "Final loss: 40.7169\n"
          ]
        }
      ],
      "source": [
        "class CBOW(torch.nn.Module):\n",
        "    def __init__(self, vocab_size, embedding_dim, context_size=4):\n",
        "        super(CBOW, self).__init__()\n",
        "\n",
        "        # Embedding layer\n",
        "        self.embeddings = nn.Embedding(vocab_size, embedding_dim)\n",
        "\n",
        "        # Two-layer feedforward network\n",
        "        self.linear1 = nn.Linear(context_size * embedding_dim, 128)\n",
        "        self.linear2 = nn.Linear(128, vocab_size)\n",
        "\n",
        "        # Activation function\n",
        "        self.activation = nn.ReLU()\n",
        "\n",
        "    def forward(self, inputs):\n",
        "        # Check if inputs needs a batch dimension\n",
        "        if inputs.dim() == 1:\n",
        "            # If single context vector (just context_size), add batch dimension\n",
        "            inputs = inputs.unsqueeze(0)  # Now (1, context_size)\n",
        "\n",
        "        # Get embeddings for all context words\n",
        "        embeds = self.embeddings(inputs)  # (batch_size, context_size, embedding_dim)\n",
        "\n",
        "        # Reshape for the linear layer by flattening the context embeddings\n",
        "        embeds_flat = embeds.view(embeds.size(0), -1)  # (batch_size, context_size * embedding_dim)\n",
        "\n",
        "        # Pass through first linear layer and activation\n",
        "        hidden = self.activation(self.linear1(embeds_flat))\n",
        "\n",
        "        # Pass through second linear layer\n",
        "        out = self.linear2(hidden)\n",
        "\n",
        "        return out\n",
        "\n",
        "\n",
        "def make_context_vector(context, word_to_ix):\n",
        "    idxs = [word_to_ix[w] for w in context]\n",
        "    return torch.tensor(idxs, dtype=torch.long)\n",
        "\n",
        "\n",
        "# Create the model and define hyperparameters\n",
        "context_size = 4  # Total context size (2 words left + 2 words right)\n",
        "model = CBOW(vocab_size, EMBEDDING_DIM, context_size)\n",
        "loss_function = nn.CrossEntropyLoss()\n",
        "optimizer = optim.SGD(model.parameters(), lr=0.001)\n",
        "\n",
        "# Training loop\n",
        "losses = []\n",
        "for epoch in range(50):\n",
        "    total_loss = 0\n",
        "\n",
        "    for context, target in data:\n",
        "        # Prepare the inputs and target\n",
        "        context_vector = make_context_vector(context, word_to_ix)\n",
        "        target_index = torch.tensor([word_to_ix[target]], dtype=torch.long)\n",
        "\n",
        "        # Reset gradients\n",
        "        model.zero_grad()\n",
        "\n",
        "        # Forward pass - no need to manually add batch dimension now\n",
        "        log_probs = model(context_vector)\n",
        "\n",
        "        # Compute loss\n",
        "        loss = loss_function(log_probs, target_index)\n",
        "\n",
        "        # Backward pass\n",
        "        loss.backward()\n",
        "\n",
        "        # Update parameters\n",
        "        optimizer.step()\n",
        "\n",
        "        # Track loss\n",
        "        total_loss += loss.item()\n",
        "\n",
        "    # Print progress\n",
        "    losses.append(total_loss)\n",
        "    if epoch % 10 == 0:\n",
        "        print(f\"Epoch {epoch}: Loss {total_loss:.4f}\")\n",
        "\n",
        "print(f\"Final loss: {losses[-1]:.4f}\")"
      ]
    },
    {
      "cell_type": "markdown",
      "metadata": {
        "id": "1xvUYhXCjBAg"
      },
      "source": [
        "##  Check the results\n",
        "\n",
        "Then we check the results by making predictions of target work by context"
      ]
    },
    {
      "cell_type": "code",
      "execution_count": 14,
      "metadata": {
        "scrolled": true,
        "id": "hPfhk1pWjBAg",
        "outputId": "011ed135-6f33-4956-bddc-9eac93693f4d",
        "colab": {
          "base_uri": "https://localhost:8080/"
        }
      },
      "outputs": [
        {
          "output_type": "stream",
          "name": "stdout",
          "text": [
            "Raw text: We are about to study the idea of a computational process. Computational processes are abstract beings that inhabit computers. As they evolve, processes manipulate other abstract things called data. The evolution of a process is directed by a pattern of rules called a program. People create programs to direct processes. In effect, we conjure the spirits of the computer with our spells.\n",
            "\n",
            "Context: ['People', 'create', 'to', 'direct']\n",
            "\n",
            "Prediction: programs\n"
          ]
        }
      ],
      "source": [
        "context = ['People','create','to', 'direct']\n",
        "context_vector = make_context_vector(context, word_to_ix)\n",
        "a = model(context_vector)\n",
        "\n",
        "#Print result\n",
        "print(f'Raw text: {\" \".join(raw_text)}\\n')\n",
        "print(f'Context: {context}\\n')\n",
        "print(f'Prediction: {ix_to_word[torch.argmax(a[0]).item()]}')"
      ]
    },
    {
      "cell_type": "markdown",
      "metadata": {
        "id": "51RnQli4jBAg"
      },
      "source": [
        "# Practical part 2: Computing Word Embeddings in  `Alice in Wonderland` using CBoW"
      ]
    },
    {
      "cell_type": "markdown",
      "metadata": {
        "id": "jhyi3i8ZjBAg"
      },
      "source": [
        "Now let's try to build word embedding in a ‘Alice in Wonderland’ instead of a toy example. The word-label mapping dictionaries and corpus are available [here](https://drive.google.com/drive/folders/1mYM29PbWQ4rS0bgKndFJjZlkbcwMaEpO?usp=sharing). You can use the cell bellow to download the necessary data in your working directory."
      ]
    },
    {
      "cell_type": "code",
      "execution_count": 15,
      "metadata": {
        "id": "93AwlRT2jBAh",
        "outputId": "1364a4a8-3e7c-4749-b29e-b8838bfb1ca1",
        "colab": {
          "base_uri": "https://localhost:8080/"
        }
      },
      "outputs": [
        {
          "output_type": "stream",
          "name": "stderr",
          "text": [
            "Retrieving folder contents\n"
          ]
        },
        {
          "output_type": "stream",
          "name": "stdout",
          "text": [
            "Processing file 1TGMG8jTqZBrJoJB_gGxd9vh8rtX7JuXw alice.json\n",
            "Processing file 1ECyNDt0sb8PD9A5LN8YYSUb6vmb1uj6W ix_to_word.json\n",
            "Processing file 1NYzP_0QSBFVNCZW6m7KAFA83LJUtU97Q word_to_ix.json\n"
          ]
        },
        {
          "output_type": "stream",
          "name": "stderr",
          "text": [
            "Retrieving folder contents completed\n",
            "Building directory structure\n",
            "Building directory structure completed\n",
            "Downloading...\n",
            "From: https://drive.google.com/uc?id=1TGMG8jTqZBrJoJB_gGxd9vh8rtX7JuXw\n",
            "To: /content/Word_embedding_data/alice.json\n",
            "100%|██████████| 78.0k/78.0k [00:00<00:00, 18.1MB/s]\n",
            "Downloading...\n",
            "From: https://drive.google.com/uc?id=1ECyNDt0sb8PD9A5LN8YYSUb6vmb1uj6W\n",
            "To: /content/Word_embedding_data/ix_to_word.json\n",
            "100%|██████████| 42.3k/42.3k [00:00<00:00, 57.8MB/s]\n",
            "Downloading...\n",
            "From: https://drive.google.com/uc?id=1NYzP_0QSBFVNCZW6m7KAFA83LJUtU97Q\n",
            "To: /content/Word_embedding_data/word_to_ix.json\n",
            "100%|██████████| 37.6k/37.6k [00:00<00:00, 45.7MB/s]\n",
            "Download completed\n"
          ]
        },
        {
          "output_type": "execute_result",
          "data": {
            "text/plain": [
              "['/content/Word_embedding_data/alice.json',\n",
              " '/content/Word_embedding_data/ix_to_word.json',\n",
              " '/content/Word_embedding_data/word_to_ix.json']"
            ]
          },
          "metadata": {},
          "execution_count": 15
        }
      ],
      "source": [
        "import gdown\n",
        "gdown.download_folder(\"https://drive.google.com/drive/folders/1mYM29PbWQ4rS0bgKndFJjZlkbcwMaEpO\")"
      ]
    },
    {
      "cell_type": "markdown",
      "metadata": {
        "id": "XuqhnBvBjBAh"
      },
      "source": [
        "##  Data Preprocessing"
      ]
    },
    {
      "cell_type": "code",
      "execution_count": 16,
      "metadata": {
        "id": "JYK38j3_jBAh",
        "colab": {
          "base_uri": "https://localhost:8080/"
        },
        "outputId": "21694f71-904c-4477-9219-c34beb2eaffc"
      },
      "outputs": [
        {
          "output_type": "stream",
          "name": "stdout",
          "text": [
            "['.config', 'Word_embedding_data', 'sample_data']\n"
          ]
        }
      ],
      "source": [
        "# modify the path according to your own file location\n",
        "import os\n",
        "print(os.listdir())\n",
        "data_path = \"/content/Word_embedding_data\"\n",
        "\n",
        "# if you are not using Colab, change data_path above to where you stored the data locally"
      ]
    },
    {
      "cell_type": "markdown",
      "metadata": {
        "id": "YnI1jFczjBAh"
      },
      "source": [
        "Now we load the data:"
      ]
    },
    {
      "cell_type": "code",
      "execution_count": 17,
      "metadata": {
        "id": "6iJOajfojBAi"
      },
      "outputs": [],
      "source": [
        "import json\n",
        "with open(os.path.join(data_path,\"alice.json\"),'r') as f:\n",
        "    alice = json.load(f)\n",
        "with open(os.path.join(data_path,\"ix_to_word.json\"),'r') as f:\n",
        "    ix_to_word = json.load(f)\n",
        "with open(os.path.join(data_path,\"word_to_ix.json\"),'r') as f:\n",
        "    word_to_ix = json.load(f)"
      ]
    },
    {
      "cell_type": "markdown",
      "metadata": {
        "id": "gtlk4FGijBAi"
      },
      "source": [
        "Then we create the context and target pairs by borrowing some keras utilities. We set the window_size 2 (2 words to the left, 2 to the right)."
      ]
    },
    {
      "cell_type": "code",
      "execution_count": 18,
      "metadata": {
        "id": "V3XCCZH7jBAi",
        "outputId": "502bf401-47ed-446f-d0a0-0fe3403e9b20",
        "colab": {
          "base_uri": "https://localhost:8080/"
        }
      },
      "outputs": [
        {
          "output_type": "stream",
          "name": "stdout",
          "text": [
            "Context 1: [0, 0, 337, 669] -> Target: 2\n",
            "Context 2: [0, 2, 669, 1273] -> Target: 337\n",
            "Context 3: [2, 337, 1273, 1274] -> Target: 669\n",
            "Context 1: ['PAD', 'PAD', 'adventures', 'wonderland'] -> Target: alice\n",
            "Context 2: ['PAD', 'alice', 'wonderland', 'lewis'] -> Target: adventures\n",
            "Context 3: ['alice', 'adventures', 'lewis', 'carroll'] -> Target: wonderland\n"
          ]
        },
        {
          "output_type": "stream",
          "name": "stderr",
          "text": [
            "<ipython-input-18-4e1bf68f700e>:24: UserWarning: Creating a tensor from a list of numpy.ndarrays is extremely slow. Please consider converting the list to a single numpy.ndarray with numpy.array() before converting to a tensor. (Triggered internally at ../torch/csrc/utils/tensor_new.cpp:278.)\n",
            "  X=torch.tensor(X, dtype=torch.long)\n"
          ]
        }
      ],
      "source": [
        "window_size=2\n",
        "vocab_size=len(word_to_ix)\n",
        "\n",
        "from tensorflow.keras.preprocessing import text\n",
        "from tensorflow.keras.preprocessing import sequence\n",
        "from tensorflow.keras.utils import pad_sequences\n",
        "\n",
        "corpus = [[word_to_ix[w] for w in text.text_to_word_sequence(doc)] for doc in alice]\n",
        "\n",
        "def generate_context_word_pairs(corpus, window_size, vocab_size):\n",
        "    X = []\n",
        "    Y = []\n",
        "    context_length = window_size*2\n",
        "    for words in corpus:\n",
        "        sentence_length = len(words)\n",
        "        for index, word in enumerate(words):\n",
        "            start = index - window_size\n",
        "            end = index + window_size + 1\n",
        "            context = [words[i] for i in range(start, end)if 0 <= i < sentence_length and i != index]\n",
        "            x = pad_sequences([context], maxlen=context_length)[0]\n",
        "            X.append(x)\n",
        "            Y.append([word])\n",
        "\n",
        "    X=torch.tensor(X, dtype=torch.long)\n",
        "    Y=torch.tensor(Y, dtype=torch.long)\n",
        "    return X,Y\n",
        "\n",
        "X,Y = generate_context_word_pairs(corpus, window_size=window_size, vocab_size=vocab_size)\n",
        "\n",
        "for i in range(3):\n",
        "    print(f\"Context {i+1}: {X[i].tolist()} -> Target: {Y[i].item()}\")\n",
        "\n",
        "\n",
        "for i in range(3):\n",
        "    context_words = [ix_to_word[str(idx.item())] for idx in X[i]]\n",
        "    target_word = ix_to_word[str(Y[i].item())]\n",
        "    print(f\"Context {i+1}: {context_words} -> Target: {target_word}\")\n"
      ]
    },
    {
      "cell_type": "markdown",
      "metadata": {
        "id": "47SAd89qjBAi"
      },
      "source": [
        "\n",
        "##  Create CBoW Model\n",
        "Now we create CBoW model, we could set the word embedding size to be 100 (or  some other number if you prefer)."
      ]
    },
    {
      "cell_type": "code",
      "execution_count": 33,
      "metadata": {
        "id": "9MDbr3MCjBAj"
      },
      "outputs": [],
      "source": [
        "class CBOW(torch.nn.Module):\n",
        "    def __init__(self, vocab_size, embedding_dim, context_size=4):\n",
        "        super(CBOW, self).__init__()\n",
        "\n",
        "        # Embedding layer\n",
        "        self.embeddings = nn.Embedding(vocab_size, embedding_dim)\n",
        "\n",
        "        # Two-layer feedforward network\n",
        "        self.linear1 = nn.Linear(context_size * embedding_dim, 128)\n",
        "        self.linear2 = nn.Linear(128, vocab_size)\n",
        "\n",
        "        # Activation function\n",
        "        self.activation = nn.ReLU()\n",
        "\n",
        "    def forward(self, inputs):\n",
        "        # Check if inputs needs a batch dimension\n",
        "        if inputs.dim() == 1:\n",
        "            # If single context vector (just context_size), add batch dimension\n",
        "            inputs = inputs.unsqueeze(0)  # Now (1, context_size)\n",
        "\n",
        "        # Get embeddings for all context words\n",
        "        embeds = self.embeddings(inputs)  # (batch_size, context_size, embedding_dim)\n",
        "\n",
        "        # Reshape for the linear layer by flattening the context embeddings\n",
        "        embeds_flat = embeds.view(embeds.size(0), -1)  # (batch_size, context_size * embedding_dim)\n",
        "\n",
        "        # Pass through first linear layer and activation\n",
        "        hidden = self.activation(self.linear1(embeds_flat))\n",
        "\n",
        "        # Pass through second linear layer\n",
        "        out = self.linear2(hidden)\n",
        "\n",
        "        return out\n",
        "\n",
        "\n",
        "EMBEDDING_DIM=100\n",
        "model = CBOW(vocab_size,EMBEDDING_DIM)\n",
        "loss_function = nn.CrossEntropyLoss()\n",
        "optimizer = optim.SGD(model.parameters(), lr=0.001)\n"
      ]
    },
    {
      "cell_type": "markdown",
      "metadata": {
        "id": "eK32zPNZjBAj"
      },
      "source": [
        "Remember to move your model to GPU, since now we are training with a larger corpus."
      ]
    },
    {
      "cell_type": "code",
      "execution_count": 26,
      "metadata": {
        "id": "8qxtGr3vjBAo"
      },
      "outputs": [],
      "source": [
        "# Move model to GPU\n",
        "dev = torch.device(\n",
        "    \"cuda\") if torch.cuda.is_available() else torch.device(\"cpu\")\n",
        "# Done in Edits."
      ]
    },
    {
      "cell_type": "markdown",
      "metadata": {
        "id": "yDPa_EPZjBAp"
      },
      "source": [
        "Then we train the model and print the loss. The loss should decrease with every epoch over the training data. You can play with the epochs numbers here."
      ]
    },
    {
      "cell_type": "code",
      "execution_count": 50,
      "metadata": {
        "id": "rxkpmBSbjBAp",
        "colab": {
          "base_uri": "https://localhost:8080/"
        },
        "outputId": "cbbb13db-d189-42d8-c515-effaa9daf2aa"
      },
      "outputs": [
        {
          "output_type": "stream",
          "name": "stdout",
          "text": [
            "Epoch 0: Loss 87248.2925\n",
            "Epoch 1: Loss 82001.9148\n",
            "Epoch 2: Loss 78780.1898\n",
            "Epoch 3: Loss 76336.6541\n",
            "Epoch 4: Loss 74276.8030\n",
            "Epoch 5: Loss 72401.8985\n",
            "Epoch 6: Loss 70622.2810\n",
            "Epoch 7: Loss 68883.6920\n",
            "Epoch 8: Loss 67136.5367\n",
            "Epoch 9: Loss 65351.7440\n",
            "Epoch 10: Loss 63509.9284\n",
            "Epoch 11: Loss 61601.0575\n",
            "Epoch 12: Loss 59618.5255\n",
            "Epoch 13: Loss 57562.1799\n",
            "Epoch 14: Loss 55432.2414\n",
            "Epoch 15: Loss 53235.3252\n",
            "Epoch 16: Loss 50975.2134\n",
            "Epoch 17: Loss 48658.5135\n",
            "Epoch 18: Loss 46295.1932\n",
            "Epoch 19: Loss 43897.4133\n",
            "Epoch 20: Loss 41474.0602\n",
            "Epoch 21: Loss 39034.1249\n",
            "Epoch 22: Loss 36591.2065\n",
            "Epoch 23: Loss 34159.8649\n",
            "Epoch 24: Loss 31752.8053\n",
            "Epoch 25: Loss 29389.0187\n",
            "Epoch 26: Loss 27085.3453\n",
            "Epoch 27: Loss 24864.6536\n",
            "Epoch 28: Loss 22742.6700\n",
            "Epoch 29: Loss 20738.9264\n",
            "Epoch 30: Loss 18868.7523\n",
            "Epoch 31: Loss 17143.3096\n",
            "Epoch 32: Loss 15570.1921\n",
            "Epoch 33: Loss 14145.9996\n",
            "Epoch 34: Loss 12867.0822\n",
            "Epoch 35: Loss 11721.1564\n",
            "Epoch 36: Loss 10701.1818\n",
            "Epoch 37: Loss 9797.3756\n",
            "Epoch 38: Loss 8995.0820\n",
            "Epoch 39: Loss 8283.2296\n",
            "Epoch 40: Loss 7652.2974\n",
            "Epoch 41: Loss 7090.4564\n",
            "Epoch 42: Loss 6593.1924\n",
            "Epoch 43: Loss 6149.1068\n",
            "Epoch 44: Loss 5756.0022\n",
            "Epoch 45: Loss 5402.6464\n",
            "Epoch 46: Loss 5087.3991\n",
            "Epoch 47: Loss 4808.5835\n",
            "Epoch 48: Loss 4555.3661\n",
            "Epoch 49: Loss 4329.7853\n",
            "Final loss: 4329.7853\n"
          ]
        }
      ],
      "source": [
        "#TRAINING\n",
        "losses = []\n",
        "for epoch in range(50):\n",
        "\n",
        "    total_loss = 0\n",
        "\n",
        "    for context, target in zip(X,Y):\n",
        "        # Prepare the inputs and target\n",
        "        context_vector = context.unsqueeze(0)  # shape: (1, context_size)\n",
        "        target_index = target  # shape: (1,)\n",
        "\n",
        "        # Reset gradients\n",
        "        model.zero_grad()\n",
        "\n",
        "        # Forward pass - no need to manually add batch dimension now\n",
        "        log_probs = model(context_vector)\n",
        "\n",
        "        # Compute loss\n",
        "        loss = loss_function(log_probs, target_index)\n",
        "\n",
        "        # Backward pass\n",
        "        loss.backward()\n",
        "\n",
        "        # Update parameters\n",
        "        optimizer.step()\n",
        "\n",
        "        # Track loss\n",
        "        total_loss += loss.item()\n",
        "\n",
        "    # Print progress\n",
        "    losses.append(total_loss)\n",
        "    print(f\"Epoch {epoch}: Loss {total_loss:.4f}\")\n",
        "\n",
        "print(f\"Final loss: {losses[-1]:.4f}\")\n",
        "# === ADD CODE HERE ==="
      ]
    },
    {
      "cell_type": "markdown",
      "metadata": {
        "id": "XRyeTv_PjBAp"
      },
      "source": [
        "# Practical. 3: Analogy Task"
      ]
    },
    {
      "cell_type": "markdown",
      "metadata": {
        "id": "Dqm91tU9jBAp"
      },
      "source": [
        "\n",
        "\n",
        "\n",
        "**Reading material**\n",
        "* [1] Mikolov, Tomas, et al. \"[Efficient Estimation of Word Representations in Vector Space](https://arxiv.org/abs/1301.3781)\" Advances in neural information processing systems. 2013.\n"
      ]
    },
    {
      "cell_type": "markdown",
      "metadata": {
        "id": "smDzdC3ojBAp"
      },
      "source": [
        "Implement your own function to perform the analogy task (see [1] for concrete examples). Use the same distance metric as in [1]. Your function should be able to answer whether an analogy like: \"a king is to a queen as a man is to a woman\" ($e_{king} - e_{queen} + e_{woman} \\approx e_{man}$) is true.\n",
        "\n",
        "In a perfect scenario, we would like that this analogy ($e_{king} - e_{queen} + e_{woman}$) results in the embedding of the word \"man\". However, it does not always result in exactly the same word embedding. The result of the formula is called the expected or the predicted word embedding. In this context, \"man\" is called the true or the actual word $t$. We want to find the word $p$ in the vocabulary, where the embedding of $p$ (referred to as $e_p$) is the closest to the predicted embedding (i.e. result of the formula). Then, we can check if $p$ is the same word as the true word $t$.  \n",
        "\n",
        "You have to answer an analogy function using each embedding for  CBOW model. Show the true word (with distance similarity value between predicted embedding and true word embedding, i.e. `sim1`) , the predicted word (with distance similarity value between predicted embedding and the embedding of the word in the vocabulary that is closest to this predicted embedding, i.e. `sim2`).\n",
        "\n",
        "Since `Alice in wonder land` is a relatively small dataset to training the model for the analogy task,  we may find it is difficult to get the correct answer by searching the nearest word embedding. Therefore, we extend the predicted word to the nearest `nr` number of words and check if the true word is within them. Do not expect the `nr` to be very small, it could be tens or hundreds."
      ]
    },
    {
      "cell_type": "markdown",
      "metadata": {
        "id": "wBTyqPB3jBAp"
      },
      "source": [
        "<b>HINT</b>: to visualize the results of the analogy tasks , you can print them in a table. An example is given below.\n",
        "\n",
        "\n",
        "| Analogy task | True word (sim1)  | Predicted nearaest word (sim2) | Correct? |True word within the top `nr` nearest word?|\n",
        "|:------:|:------:|:------:|:------:|:------:|\n",
        "|  queen is to king as woman is to ?\t | man (sim1) | predicted_word(sim2) | True / False |   True / False|"
      ]
    },
    {
      "cell_type": "code",
      "execution_count": 51,
      "metadata": {
        "id": "hRJRgVTwjBAq"
      },
      "outputs": [],
      "source": [
        "analogy=('queen', 'king', 'woman', 'man')"
      ]
    },
    {
      "cell_type": "markdown",
      "metadata": {
        "id": "1y8qb0XAjBAq"
      },
      "source": [
        "First let us extract the embeddings of all vocabularies for the following task"
      ]
    },
    {
      "cell_type": "code",
      "execution_count": 52,
      "metadata": {
        "id": "3b3qpIFXjBAq"
      },
      "outputs": [],
      "source": [
        "#dev = torch.device(\n",
        " #   \"cuda\") if torch.cuda.is_available() else torch.device(\"cpu\")\n",
        " # Get the device the model is on\n",
        "dev = next(model.parameters()).device\n",
        "\n",
        "# Create tensor on the same device\n",
        "vocab_indices = torch.arange(vocab_size, device=dev)\n",
        "\n",
        "# Get all embeddings\n",
        "embeddings = model.embeddings(vocab_indices)\n",
        "\n",
        "# Move to CPU and convert to numpy\n",
        "embeddings = embeddings.detach().cpu().numpy()\n"
      ]
    },
    {
      "cell_type": "code",
      "execution_count": 64,
      "metadata": {
        "id": "-uVvNa1fjBAq"
      },
      "outputs": [],
      "source": [
        "embeddings = model.embeddings(torch.Tensor([list(range(0,vocab_size))]).long().to(dev))\n",
        "embeddings = embeddings.view(-1,100)\n",
        "embeddings = embeddings.cpu().detach().numpy()"
      ]
    },
    {
      "cell_type": "markdown",
      "metadata": {
        "id": "F3nYSuCNjBAr"
      },
      "source": [
        "Then we define a 'get_nearest_words' function to retrive the nearest `nr` words to a certain word embedding"
      ]
    },
    {
      "cell_type": "code",
      "execution_count": 65,
      "metadata": {
        "id": "dWDTImnrjBAr"
      },
      "outputs": [],
      "source": [
        "import numpy as np\n",
        "\n",
        "def cosine_similarity(vec1, vec2):\n",
        "    norm1 = np.linalg.norm(vec1)\n",
        "    norm2 = np.linalg.norm(vec2)\n",
        "    if norm1 == 0 or norm2 == 0:\n",
        "        return -1  # Handle edge case\n",
        "    return np.dot(vec1, vec2) / (norm1 * norm2)\n",
        "\n",
        "def get_nearest_words(predicted_embedding, embeddings, ix_to_word, nr=10):\n",
        "    similarities = []\n",
        "    for idx, emb in enumerate(embeddings):\n",
        "        sim = cosine_similarity(predicted_embedding, emb)\n",
        "        similarities.append((sim, idx))\n",
        "\n",
        "    # Sort by similarity descending\n",
        "    similarities.sort(reverse=True)\n",
        "\n",
        "    # Return top `nr` nearest words\n",
        "    nearest = [(ix_to_word[str(idx)], sim) for sim, idx in similarities[:nr]]\n",
        "    return nearest\n"
      ]
    },
    {
      "cell_type": "markdown",
      "metadata": {
        "id": "ArkpN6h8jBAr"
      },
      "source": [
        "Now let's search for the nearest `one` and `nr` words of the predicted word embedding, and print results of the analogy tasks"
      ]
    },
    {
      "cell_type": "code",
      "source": [
        "def print_analogy(analogy, embeddings, word_to_ix, ix_to_word, nr=10):\n",
        "    word_a, word_b, word_c, true_word = analogy\n",
        "\n",
        "    # Get word embeddings\n",
        "    e_a = embeddings[word_to_ix[word_a]]\n",
        "    e_b = embeddings[word_to_ix[word_b]]\n",
        "    e_c = embeddings[word_to_ix[word_c]]\n",
        "    e_t = embeddings[word_to_ix[true_word]]\n",
        "\n",
        "    # Predicted embedding: b - a + c\n",
        "    predicted_embedding = e_b - e_a + e_c\n",
        "\n",
        "    # True similarity\n",
        "    sim1 = cosine_similarity(predicted_embedding, e_t)\n",
        "\n",
        "    # Nearest word to predicted\n",
        "    nearest = get_nearest_words(predicted_embedding, embeddings, ix_to_word, nr)\n",
        "    predicted_word, sim2 = nearest[0]\n",
        "\n",
        "    # Check if true word is in top-nr list\n",
        "    found = any(word == true_word for word, _ in nearest)\n",
        "\n",
        "    # Print table-style result\n",
        "    print(\"| Analogy task                        | True word (sim1) | Predicted nearest word (sim2) | Correct? | True word in top {}? |\".format(nr))\n",
        "    print(\"|:----------------------------------:|:----------------:|:------------------------------:|:--------:|:---------------------:|\")\n",
        "    print(f\"| {word_a} : {word_b} :: {word_c} : ? | {true_word} ({sim1:.4f})     | {predicted_word} ({sim2:.4f})         | {str(predicted_word == true_word)}    | {str(found)} |\")\n"
      ],
      "metadata": {
        "id": "SpuTe0wTTEZ3"
      },
      "execution_count": 66,
      "outputs": []
    },
    {
      "cell_type": "code",
      "execution_count": 86,
      "metadata": {
        "id": "P3djrKEzjBAs",
        "colab": {
          "base_uri": "https://localhost:8080/"
        },
        "outputId": "819ef5e8-a65e-4b32-af44-23e7b10eb65b"
      },
      "outputs": [
        {
          "output_type": "stream",
          "name": "stdout",
          "text": [
            "| Analogy task                        | True word (sim1) | Predicted nearest word (sim2) | Correct? | True word in top 989? |\n",
            "|:----------------------------------:|:----------------:|:------------------------------:|:--------:|:---------------------:|\n",
            "| queen : king :: woman : ? | man (0.0185)     | woman (0.6548)         | False    | True |\n"
          ]
        }
      ],
      "source": [
        "analogy = ('queen', 'king', 'woman', 'man')\n",
        "print_analogy(analogy, embeddings, word_to_ix, ix_to_word, nr=989)"
      ]
    }
  ],
  "metadata": {
    "colab": {
      "name": "P1.2_Word_embedding.ipynb",
      "provenance": [],
      "gpuType": "T4",
      "include_colab_link": true
    },
    "kernelspec": {
      "display_name": "Python 3",
      "name": "python3"
    },
    "language_info": {
      "codemirror_mode": {
        "name": "ipython",
        "version": 3
      },
      "file_extension": ".py",
      "mimetype": "text/x-python",
      "name": "python",
      "nbconvert_exporter": "python",
      "pygments_lexer": "ipython3",
      "version": "3.12.3"
    },
    "accelerator": "GPU"
  },
  "nbformat": 4,
  "nbformat_minor": 0
}